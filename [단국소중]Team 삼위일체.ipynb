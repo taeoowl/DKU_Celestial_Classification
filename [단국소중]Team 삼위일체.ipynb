{
 "cells": [
  {
   "cell_type": "code",
   "execution_count": null,
   "metadata": {
    "id": "MJgrxu6byNHz"
   },
   "outputs": [],
   "source": [
    "# 라이브러리 import \n",
    "import pandas as pd\n",
    "import numpy as np\n",
    "\n",
    "import lightgbm as lgbm\n",
    "from sklearn.metrics import roc_auc_score, roc_curve, log_loss\n",
    "from sklearn.model_selection import KFold, StratifiedKFold, GroupKFold\n",
    "\n",
    "import sklearn.metrics\n"
   ]
  },
  {
   "cell_type": "code",
   "execution_count": null,
   "metadata": {
    "id": "wz3n8lplyNH6",
    "outputId": "2ac9ffcc-710f-4973-eaaa-e3a4835126c3"
   },
   "outputs": [
    {
     "name": "stdout",
     "output_type": "stream",
     "text": [
      "pandas 1.0.5\n",
      "numpy 1.18.5\n",
      "sklearn.metrics 0.23.1\n",
      "python 3.8.3 (default, Jul  2 2020, 17:30:36) [MSC v.1916 64 bit (AMD64)]\n"
     ]
    }
   ],
   "source": [
    "# 파이썬 버전 및 라이브러리 버전\n",
    "\n",
    "print('pandas',pd.__version__)\n",
    "print('numpy',np.__version__)\n",
    "print('sklearn.metrics',sklearn.__version__)\n",
    "print('python',sys.version)"
   ]
  },
  {
   "cell_type": "markdown",
   "metadata": {
    "id": "Xy1mOOh2yNH_"
   },
   "source": [
    "\n",
    "# 데이터 불러오기\n"
   ]
  },
  {
   "cell_type": "code",
   "execution_count": null,
   "metadata": {
    "id": "Qjns6EqxyNIA"
   },
   "outputs": [],
   "source": [
    "# 데이터 불러오기\n",
    "\n",
    "train = pd.read_csv('CE_train.csv', header=0)\n",
    "test = pd.read_csv('CE_test.csv', header=0)\n",
    "\n",
    "train = train.drop(['Unnamed: 0'] , axis = 'columns')\n",
    "test = test.drop(['Unnamed: 0'] , axis = 'columns')"
   ]
  },
  {
   "cell_type": "markdown",
   "metadata": {
    "id": "35K1gyBuyNID"
   },
   "source": [
    "\n",
    "# 데이터 전처리 및 모델링\n"
   ]
  },
  {
   "cell_type": "code",
   "execution_count": null,
   "metadata": {
    "id": "-gW_8gbDyNID"
   },
   "outputs": [],
   "source": [
    "# bad_features 제거 : permutation importance 기준\n",
    "\n",
    "train = train.drop([\"dered_g\",\"TS4\",\"dered_gi_differ\",\"p1\",\"dered_c_paral\",\"dered_c3\",\"TS11\",\"dered_TS8\",\"dered_criteria1\",\"dered_criteria4\"\n",
    "    ,\"c1\",\"TS6\",\"airmass_g\",\"dered_ri_differ\",\"gi_differ\",\"TS2\",\"icol\",\"c_paral_gaus\",\"ELG_dered_differ1\",\"dered_TS7\",\"dered_gr_differ\"\n",
    "    ,\"criteria3\",\"scol\",\"ELG_differ1\",\"TS1\",\"TS7\",\"airmass_i\",\"airmass_r\",\"dered_TS1\",\"c_paral\",\"airmass_u\",\"ELG_differ2\",\"ri_differ\"\n",
    "    ,\"TS9\",\"TS14\",\"airmass_z\",\"TS8\",\"dered_criteria2\",\"gr_differ\",\"dered_TS10\",\"criterion2\",\"TS10\",\"dered_criteria3\",\"c3\",'TS13','criteria4'\n",
    "    ,'dered_c_paral_gaus'] , axis = 'columns')\n",
    "                   \n",
    "\n",
    "test = test.drop([\"dered_g\",\"TS4\",\"dered_gi_differ\",\"p1\",\"dered_c_paral\",\"dered_c3\",\"TS11\",\"dered_TS8\",\"dered_criteria1\",\"dered_criteria4\"\n",
    "    ,\"c1\",\"TS6\",\"airmass_g\",\"dered_ri_differ\",\"gi_differ\",\"TS2\",\"icol\",\"c_paral_gaus\",\"ELG_dered_differ1\",\"dered_TS7\",\"dered_gr_differ\"\n",
    "    ,\"criteria3\",\"scol\",\"ELG_differ1\",\"TS1\",\"TS7\",\"airmass_i\",\"airmass_r\",\"dered_TS1\",\"c_paral\",\"airmass_u\",\"ELG_differ2\",\"ri_differ\"\n",
    "    ,\"TS9\",\"TS14\",\"airmass_z\",\"TS8\",\"dered_criteria2\",\"gr_differ\",\"dered_TS10\",\"criterion2\",\"TS10\",\"dered_criteria3\",\"c3\",'TS13','criteria4'\n",
    "    ,'dered_c_paral_gaus'] , axis = 'columns')\n",
    "                   "
   ]
  },
  {
   "cell_type": "code",
   "execution_count": null,
   "metadata": {
    "id": "mzewi20SyNIG"
   },
   "outputs": [],
   "source": [
    "# 휴리스틱하게 찾은 변수 추가 생성 : 의외로 성능 상승\n",
    "\n",
    "def red(train):\n",
    "    if train['redshift'] < 0:\n",
    "        return 0\n",
    "    else:\n",
    "        return 1\n",
    "    \n",
    "    \n",
    "train['grade'] = train.apply(red, axis=1)\n",
    "test['grade'] = test.apply(red, axis=1)\n",
    "\n",
    "train['red2'] = train['redshift'] % 2\n",
    "test['red2'] = test['redshift'] % 2\n",
    "\n",
    "train['red3'] = train['redshift'] % 10\n",
    "test['red3'] = test['redshift'] % 10\n",
    "\n",
    "train['red4'] = train['redshift'] % 100\n",
    "test['red4'] = test['redshift'] % 100"
   ]
  },
  {
   "cell_type": "code",
   "execution_count": null,
   "metadata": {
    "id": "-gPM2_vVyNIJ"
   },
   "outputs": [],
   "source": []
  },
  {
   "cell_type": "code",
   "execution_count": null,
   "metadata": {
    "id": "Wm-EAFT-yNIL",
    "outputId": "d9f554d3-7f68-487d-c118-511c28d6bde3"
   },
   "outputs": [
    {
     "name": "stdout",
     "output_type": "stream",
     "text": [
      "91\n",
      "90\n"
     ]
    }
   ],
   "source": [
    "# 모델링을 위한 전작업\n",
    "print(len(train.columns))\n",
    "train_columns = [c for c in train.columns if c not in ['class']]\n",
    "num_class = train['class'].nunique()\n",
    "print(len(train_columns))"
   ]
  },
  {
   "cell_type": "code",
   "execution_count": null,
   "metadata": {
    "id": "vhJb8xzCyNIQ"
   },
   "outputs": [],
   "source": [
    "x_train = train.copy()\n",
    "y_train = train['class']\n",
    "x_test = test.copy()"
   ]
  },
  {
   "cell_type": "code",
   "execution_count": null,
   "metadata": {
    "id": "hIF-E6RxyNIU",
    "outputId": "72678471-ea54-451e-fd56-227fd6106b50"
   },
   "outputs": [
    {
     "name": "stdout",
     "output_type": "stream",
     "text": [
      "1 FOLD Start!!\n"
     ]
    },
    {
     "name": "stderr",
     "output_type": "stream",
     "text": [
      "Found `n_estimators` in params. Will use it instead of argument\n",
      "categorical_feature in Dataset is overridden.\n",
      "New categorical_feature is []\n"
     ]
    },
    {
     "name": "stdout",
     "output_type": "stream",
     "text": [
      "Training until validation scores don't improve for 100 rounds\n",
      "[100]\ttraining's multi_logloss: 0.244188\tvalid_1's multi_logloss: 0.248515\n",
      "[200]\ttraining's multi_logloss: 0.163564\tvalid_1's multi_logloss: 0.172407\n",
      "[300]\ttraining's multi_logloss: 0.144954\tvalid_1's multi_logloss: 0.158162\n",
      "[400]\ttraining's multi_logloss: 0.136996\tvalid_1's multi_logloss: 0.154194\n",
      "[500]\ttraining's multi_logloss: 0.131619\tvalid_1's multi_logloss: 0.152828\n",
      "[600]\ttraining's multi_logloss: 0.127427\tvalid_1's multi_logloss: 0.152247\n",
      "[700]\ttraining's multi_logloss: 0.123565\tvalid_1's multi_logloss: 0.151943\n",
      "[800]\ttraining's multi_logloss: 0.119938\tvalid_1's multi_logloss: 0.151815\n",
      "[900]\ttraining's multi_logloss: 0.116532\tvalid_1's multi_logloss: 0.15172\n",
      "[1000]\ttraining's multi_logloss: 0.113293\tvalid_1's multi_logloss: 0.151616\n",
      "[1100]\ttraining's multi_logloss: 0.110312\tvalid_1's multi_logloss: 0.151579\n",
      "Early stopping, best iteration is:\n",
      "[1098]\ttraining's multi_logloss: 0.110376\tvalid_1's multi_logloss: 0.151574\n",
      "1 FOLD LogLoss:  0.151574355849855\n"
     ]
    }
   ],
   "source": [
    "# 5fold LGBM 모델링\n",
    "# gbdt가 가장 성능이 좋았음\n",
    "# 검색을 통해 얻어진 파라미터가 1차적 성능을 보기위해 사용됐는데 \n",
    "# hyperobt로 찾은 파라미터 보다 성능이 좋아 사용 \n",
    "\n",
    "lgb_param = {'objective': 'multiclass', \n",
    " 'num_class': 3, \n",
    " 'boosting_type': 'gbdt', \n",
    " 'subsample_freq': 5, \n",
    " 'num_leaves': 92, \n",
    " 'min_data_in_leaf': 64, \n",
    " 'subsample_for_bin': 23000, \n",
    " 'max_depth': 10, \n",
    " 'feature_fraction': 0.302, \n",
    " 'bagging_fraction': 0.904, \n",
    " 'lambda_l1': 0.099, \n",
    " 'lambda_l2': 1.497, \n",
    " 'min_child_weight': 38.011, \n",
    " 'nthread': 32, \n",
    " 'metric': 'multi_logloss', \n",
    " 'learning_rate': 0.021, \n",
    " 'min_sum_hessian_in_leaf': 3, \n",
    " 'seed': 42, \n",
    " 'n_estimators': 10000}\n",
    "\n",
    "\n",
    "\n",
    "\n",
    "num_class = 3\n",
    "oof_train = np.zeros((len(x_train), num_class))\n",
    "oof_test = np.zeros((len(x_test), num_class))\n",
    "log_loss_score_list = []\n",
    "NFOLD = 5\n",
    "SEED = 42\n",
    "\n",
    "\n",
    "\n",
    "\n",
    "# stratifiedkfold 5 fold 사용\n",
    "folds = StratifiedKFold(n_splits=NFOLD, shuffle=True, random_state=42)\n",
    "for fold_, (trn_index, val_index) in enumerate(folds.split(x_train, y_train)):\n",
    "    print(f\"{fold_ + 1} FOLD Start!!\")\n",
    "    trn_x, trn_y = x_train.iloc[trn_index][train_columns], y_train.iloc[trn_index]\n",
    "    val_x, val_y = x_train.iloc[val_index][train_columns], y_train.iloc[val_index]\n",
    "    dtrain = lgbm.Dataset(trn_x, label=trn_y, silent=True)\n",
    "    dcross = lgbm.Dataset(val_x, label=val_y, silent=True)\n",
    "\n",
    "    # dart는 얼리스탑핑이 안되서 한번 num_boost_round를 넉넉히 돌린다음에 5fold에서 가장 좋았던 round로 고정하고 돌린다.\n",
    "    clf = lgbm.train(lgb_param, train_set=dtrain, num_boost_round=10000, valid_sets=[dtrain, dcross],\n",
    "                     early_stopping_rounds=100, verbose_eval=100, categorical_feature='')\n",
    "\n",
    "    val_pred = clf.predict(val_x)\n",
    "    oof_train[val_index, :] = val_pred\n",
    "\n",
    "    log_loss_score = log_loss(val_y, val_pred)\n",
    "    log_loss_score_list.append(log_loss_score)\n",
    "    print(f\"{fold_ + 1} FOLD LogLoss: \", log_loss_score)\n",
    "\n",
    "    # 5fold 평균으로 제출\n",
    "    oof_test += clf.predict(x_test[train_columns]) / NFOLD\n",
    "\n",
    "\n",
    "\n",
    "print(log_loss_score_list)\n",
    "np.mean(log_loss_score_list), np.std(log_loss_score_list)\n",
    "\n",
    "\n",
    "sample_submission = pd.read_csv('sample_submission2.csv')\n",
    "\n",
    "\n",
    "submission = pd.DataFrame(data = oof_test, columns = sample_submission.columns[1:], index = sample_submission['id'])\n",
    "submission.to_csv('submission.csv', index=True)\n",
    "\n"
   ]
  },
  {
   "cell_type": "code",
   "execution_count": null,
   "metadata": {
    "id": "6WfBqQtAyNIX"
   },
   "outputs": [],
   "source": []
  }
 ],
 "metadata": {
  "colab": {
   "name": "dku_final_submission.ipynb",
   "provenance": []
  },
  "kernelspec": {
   "display_name": "Python 3",
   "language": "python",
   "name": "python3"
  },
  "language_info": {
   "codemirror_mode": {
    "name": "ipython",
    "version": 3
   },
   "file_extension": ".py",
   "mimetype": "text/x-python",
   "name": "python",
   "nbconvert_exporter": "python",
   "pygments_lexer": "ipython3",
   "version": "3.7.6"
  }
 },
 "nbformat": 4,
 "nbformat_minor": 1
}
